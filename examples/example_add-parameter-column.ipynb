{
 "cells": [
  {
   "cell_type": "markdown",
   "metadata": {},
   "source": [
    "This is how to add a new parameter to measurement data."
   ]
  },
  {
   "cell_type": "code",
   "execution_count": null,
   "metadata": {},
   "outputs": [],
   "source": [
    "import stlabutils\n",
    "\n",
    "# stuff, then read data\n",
    "data = stlabutils.readdata.readdat(datfile)\n",
    "\n",
    "# this will be the data as measured, a list of dataframes\n",
    "# say we want to add a new parameter \"Drive Frequency (Hz)\" that was varied during the measurement as follows:\n",
    "\n",
    "drive_frequencies = np.linspace(drive_freq_start,drive_freq_stop,drive_freq_steps)\n",
    "\n",
    "newdata = []\n",
    "for i, (block,drfreq) in enumerate(zip(data,drive_frequencies)):\n",
    "    block[\"Drive Frequency (Hz)\"] = drfreq\n",
    "    newdata.append(block)\n",
    "    if i==0:\n",
    "        myfile = stlab.newfile(prefix_new, idstring, newdata.columns(), autoindex=True) # create datafile\n",
    "    stlab.saveframe(myfile,newdata) # save to new file\n",
    "\n",
    "# now you have a new list of dataframes with the corrected values.\n",
    "\n",
    "# next step: use stlabutils to generate the mtx\n",
    "\n",
    "mtx = stlabutils.framearr_to_mtx(\n",
    "    data, key='S21dB (dB)', xkey='Frequency (Hz)', ykey='Drive Frequency (Hz)')\n",
    "mtxvals = mtx.ptmx.values # this is a 2D numpy array, that you can slice in any direction you want"
   ]
  }
 ],
 "metadata": {
  "kernelspec": {
   "display_name": "Python 3",
   "language": "python",
   "name": "python3"
  },
  "language_info": {
   "codemirror_mode": {
    "name": "ipython",
    "version": 3
   },
   "file_extension": ".py",
   "mimetype": "text/x-python",
   "name": "python",
   "nbconvert_exporter": "python",
   "pygments_lexer": "ipython3",
   "version": "3.7.3"
  },
  "toc": {
   "base_numbering": 1,
   "nav_menu": {},
   "number_sections": true,
   "sideBar": true,
   "skip_h1_title": false,
   "title_cell": "Table of Contents",
   "title_sidebar": "Contents",
   "toc_cell": false,
   "toc_position": {},
   "toc_section_display": true,
   "toc_window_display": false
  }
 },
 "nbformat": 4,
 "nbformat_minor": 2
}
