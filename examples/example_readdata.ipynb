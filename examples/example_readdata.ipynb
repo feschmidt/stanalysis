{
 "cells": [
  {
   "cell_type": "code",
   "execution_count": 1,
   "metadata": {},
   "outputs": [],
   "source": [
    "import stlabutils\n",
    "import matplotlib.pyplot as plt"
   ]
  },
  {
   "cell_type": "code",
   "execution_count": 4,
   "metadata": {},
   "outputs": [
    {
     "name": "stdout",
     "output_type": "stream",
     "text": [
      "['Frequency (Hz)', 'S21re ()', 'S21im ()', 'S21dB (dB)', 'S21Ph (rad)', 'Power (dBm)', 'Temperature (K)', 'Power (K)']\n"
     ]
    }
   ],
   "source": [
    "# Import data\n",
    "myfilename = 'data/M59_2017_06_26_16.58.40_RF_vs_power_m60dbmatt_2amp_ref_sample.dat'\n",
    "mydata = stlabutils.readdata.readdat(myfilename)"
   ]
  },
  {
   "cell_type": "code",
   "execution_count": 6,
   "metadata": {},
   "outputs": [],
   "source": [
    "block = mydata[0]"
   ]
  },
  {
   "cell_type": "code",
   "execution_count": 9,
   "metadata": {},
   "outputs": [
    {
     "data": {
      "text/html": [
       "<div>\n",
       "<style scoped>\n",
       "    .dataframe tbody tr th:only-of-type {\n",
       "        vertical-align: middle;\n",
       "    }\n",
       "\n",
       "    .dataframe tbody tr th {\n",
       "        vertical-align: top;\n",
       "    }\n",
       "\n",
       "    .dataframe thead th {\n",
       "        text-align: right;\n",
       "    }\n",
       "</style>\n",
       "<table border=\"1\" class=\"dataframe\">\n",
       "  <thead>\n",
       "    <tr style=\"text-align: right;\">\n",
       "      <th></th>\n",
       "      <th>Frequency (Hz)</th>\n",
       "      <th>S21re ()</th>\n",
       "      <th>S21im ()</th>\n",
       "      <th>S21dB (dB)</th>\n",
       "      <th>S21Ph (rad)</th>\n",
       "      <th>Power (dBm)</th>\n",
       "      <th>Temperature (K)</th>\n",
       "      <th>Power (K)</th>\n",
       "    </tr>\n",
       "  </thead>\n",
       "  <tbody>\n",
       "    <tr>\n",
       "      <th>0</th>\n",
       "      <td>8.084000e+09</td>\n",
       "      <td>0.046590</td>\n",
       "      <td>0.021401</td>\n",
       "      <td>-25.802737</td>\n",
       "      <td>0.430602</td>\n",
       "      <td>0.0</td>\n",
       "      <td>0.014539</td>\n",
       "      <td>0.0</td>\n",
       "    </tr>\n",
       "    <tr>\n",
       "      <th>1</th>\n",
       "      <td>8.084050e+09</td>\n",
       "      <td>0.046643</td>\n",
       "      <td>0.020279</td>\n",
       "      <td>-25.872342</td>\n",
       "      <td>0.410108</td>\n",
       "      <td>0.0</td>\n",
       "      <td>0.014539</td>\n",
       "      <td>0.0</td>\n",
       "    </tr>\n",
       "    <tr>\n",
       "      <th>2</th>\n",
       "      <td>8.084100e+09</td>\n",
       "      <td>0.047439</td>\n",
       "      <td>0.019464</td>\n",
       "      <td>-25.801614</td>\n",
       "      <td>0.389350</td>\n",
       "      <td>0.0</td>\n",
       "      <td>0.014539</td>\n",
       "      <td>0.0</td>\n",
       "    </tr>\n",
       "    <tr>\n",
       "      <th>3</th>\n",
       "      <td>8.084150e+09</td>\n",
       "      <td>0.047650</td>\n",
       "      <td>0.018559</td>\n",
       "      <td>-25.825302</td>\n",
       "      <td>0.371412</td>\n",
       "      <td>0.0</td>\n",
       "      <td>0.014539</td>\n",
       "      <td>0.0</td>\n",
       "    </tr>\n",
       "    <tr>\n",
       "      <th>4</th>\n",
       "      <td>8.084200e+09</td>\n",
       "      <td>0.047975</td>\n",
       "      <td>0.018122</td>\n",
       "      <td>-25.800456</td>\n",
       "      <td>0.361173</td>\n",
       "      <td>0.0</td>\n",
       "      <td>0.014539</td>\n",
       "      <td>0.0</td>\n",
       "    </tr>\n",
       "  </tbody>\n",
       "</table>\n",
       "</div>"
      ],
      "text/plain": [
       "   Frequency (Hz)  S21re ()  S21im ()  S21dB (dB)  S21Ph (rad)  Power (dBm)  \\\n",
       "0    8.084000e+09  0.046590  0.021401  -25.802737     0.430602          0.0   \n",
       "1    8.084050e+09  0.046643  0.020279  -25.872342     0.410108          0.0   \n",
       "2    8.084100e+09  0.047439  0.019464  -25.801614     0.389350          0.0   \n",
       "3    8.084150e+09  0.047650  0.018559  -25.825302     0.371412          0.0   \n",
       "4    8.084200e+09  0.047975  0.018122  -25.800456     0.361173          0.0   \n",
       "\n",
       "   Temperature (K)  Power (K)  \n",
       "0         0.014539        0.0  \n",
       "1         0.014539        0.0  \n",
       "2         0.014539        0.0  \n",
       "3         0.014539        0.0  \n",
       "4         0.014539        0.0  "
      ]
     },
     "execution_count": 9,
     "metadata": {},
     "output_type": "execute_result"
    }
   ],
   "source": [
    "block.head()"
   ]
  },
  {
   "cell_type": "code",
   "execution_count": 10,
   "metadata": {},
   "outputs": [
    {
     "data": {
      "text/plain": [
       "<matplotlib.axes._subplots.AxesSubplot at 0x21260530438>"
      ]
     },
     "execution_count": 10,
     "metadata": {},
     "output_type": "execute_result"
    },
    {
     "data": {
      "image/png": "[encoded data removed]",
      "text/plain": [
       "<Figure size 432x288 with 1 Axes>"
      ]
     },
     "metadata": {
      "needs_background": "light"
     },
     "output_type": "display_data"
    }
   ],
   "source": [
    "block.plot(x='Frequency (Hz)',y='S21dB (dB)')"
   ]
  },
  {
   "cell_type": "code",
   "execution_count": 11,
   "metadata": {},
   "outputs": [],
   "source": [
    "block['Vgate (V)']=0"
   ]
  },
  {
   "cell_type": "code",
   "execution_count": 12,
   "metadata": {},
   "outputs": [
    {
     "data": {
      "text/html": [
       "<div>\n",
       "<style scoped>\n",
       "    .dataframe tbody tr th:only-of-type {\n",
       "        vertical-align: middle;\n",
       "    }\n",
       "\n",
       "    .dataframe tbody tr th {\n",
       "        vertical-align: top;\n",
       "    }\n",
       "\n",
       "    .dataframe thead th {\n",
       "        text-align: right;\n",
       "    }\n",
       "</style>\n",
       "<table border=\"1\" class=\"dataframe\">\n",
       "  <thead>\n",
       "    <tr style=\"text-align: right;\">\n",
       "      <th></th>\n",
       "      <th>Frequency (Hz)</th>\n",
       "      <th>S21re ()</th>\n",
       "      <th>S21im ()</th>\n",
       "      <th>S21dB (dB)</th>\n",
       "      <th>S21Ph (rad)</th>\n",
       "      <th>Power (dBm)</th>\n",
       "      <th>Temperature (K)</th>\n",
       "      <th>Power (K)</th>\n",
       "      <th>Vgate (V)</th>\n",
       "    </tr>\n",
       "  </thead>\n",
       "  <tbody>\n",
       "    <tr>\n",
       "      <th>0</th>\n",
       "      <td>8.084000e+09</td>\n",
       "      <td>0.046590</td>\n",
       "      <td>0.021401</td>\n",
       "      <td>-25.802737</td>\n",
       "      <td>0.430602</td>\n",
       "      <td>0.0</td>\n",
       "      <td>0.014539</td>\n",
       "      <td>0.0</td>\n",
       "      <td>0</td>\n",
       "    </tr>\n",
       "    <tr>\n",
       "      <th>1</th>\n",
       "      <td>8.084050e+09</td>\n",
       "      <td>0.046643</td>\n",
       "      <td>0.020279</td>\n",
       "      <td>-25.872342</td>\n",
       "      <td>0.410108</td>\n",
       "      <td>0.0</td>\n",
       "      <td>0.014539</td>\n",
       "      <td>0.0</td>\n",
       "      <td>0</td>\n",
       "    </tr>\n",
       "    <tr>\n",
       "      <th>2</th>\n",
       "      <td>8.084100e+09</td>\n",
       "      <td>0.047439</td>\n",
       "      <td>0.019464</td>\n",
       "      <td>-25.801614</td>\n",
       "      <td>0.389350</td>\n",
       "      <td>0.0</td>\n",
       "      <td>0.014539</td>\n",
       "      <td>0.0</td>\n",
       "      <td>0</td>\n",
       "    </tr>\n",
       "    <tr>\n",
       "      <th>3</th>\n",
       "      <td>8.084150e+09</td>\n",
       "      <td>0.047650</td>\n",
       "      <td>0.018559</td>\n",
       "      <td>-25.825302</td>\n",
       "      <td>0.371412</td>\n",
       "      <td>0.0</td>\n",
       "      <td>0.014539</td>\n",
       "      <td>0.0</td>\n",
       "      <td>0</td>\n",
       "    </tr>\n",
       "    <tr>\n",
       "      <th>4</th>\n",
       "      <td>8.084200e+09</td>\n",
       "      <td>0.047975</td>\n",
       "      <td>0.018122</td>\n",
       "      <td>-25.800456</td>\n",
       "      <td>0.361173</td>\n",
       "      <td>0.0</td>\n",
       "      <td>0.014539</td>\n",
       "      <td>0.0</td>\n",
       "      <td>0</td>\n",
       "    </tr>\n",
       "  </tbody>\n",
       "</table>\n",
       "</div>"
      ],
      "text/plain": [
       "   Frequency (Hz)  S21re ()  S21im ()  S21dB (dB)  S21Ph (rad)  Power (dBm)  \\\n",
       "0    8.084000e+09  0.046590  0.021401  -25.802737     0.430602          0.0   \n",
       "1    8.084050e+09  0.046643  0.020279  -25.872342     0.410108          0.0   \n",
       "2    8.084100e+09  0.047439  0.019464  -25.801614     0.389350          0.0   \n",
       "3    8.084150e+09  0.047650  0.018559  -25.825302     0.371412          0.0   \n",
       "4    8.084200e+09  0.047975  0.018122  -25.800456     0.361173          0.0   \n",
       "\n",
       "   Temperature (K)  Power (K)  Vgate (V)  \n",
       "0         0.014539        0.0          0  \n",
       "1         0.014539        0.0          0  \n",
       "2         0.014539        0.0          0  \n",
       "3         0.014539        0.0          0  \n",
       "4         0.014539        0.0          0  "
      ]
     },
     "execution_count": 12,
     "metadata": {},
     "output_type": "execute_result"
    }
   ],
   "source": [
    "block.head()"
   ]
  },
  {
   "cell_type": "code",
   "execution_count": null,
   "metadata": {},
   "outputs": [],
   "source": []
  }
 ],
 "metadata": {
  "kernelspec": {
   "display_name": "Python 3",
   "language": "python",
   "name": "python3"
  },
  "language_info": {
   "codemirror_mode": {
    "name": "ipython",
    "version": 3
   },
   "file_extension": ".py",
   "mimetype": "text/x-python",
   "name": "python",
   "nbconvert_exporter": "python",
   "pygments_lexer": "ipython3",
   "version": "3.7.3"
  }
 },
 "nbformat": 4,
 "nbformat_minor": 2
}
