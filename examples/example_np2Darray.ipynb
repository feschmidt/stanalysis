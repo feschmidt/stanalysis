{
 "cells": [
  {
   "cell_type": "markdown",
   "metadata": {},
   "source": [
    "This is how to turn a 2D numpy array into an stlab mtx, given a 2D numpy array `DATA` with 1D-arrays `XVALS` and `YVALS`, i.e. `DATA.shape == (len(XVALS),len(YVALS))`."
   ]
  },
  {
   "cell_type": "code",
   "execution_count": null,
   "metadata": {},
   "outputs": [],
   "source": [
    "import stlabutils\n",
    "import pandas as pd\n",
    "\n",
    "mydf = pd.DataFrame(DATA,columns=XVALS,index=YVALS)\n",
    "mymtx = stlabutils.utils.stlabdict.stlabmtx(mydf,\n",
    "                                            xtitle='Xvalue (Xunit)',\n",
    "                                            ytitle='Yvalue (Yunit)',\n",
    "                                            ztitle='ZValue (Zunit)')\n",
    "\n",
    "mymtx.savemtx('mycooldata')"
   ]
  }
 ],
 "metadata": {
  "kernelspec": {
   "display_name": "Python 3",
   "language": "python",
   "name": "python3"
  },
  "language_info": {
   "codemirror_mode": {
    "name": "ipython",
    "version": 3
   },
   "file_extension": ".py",
   "mimetype": "text/x-python",
   "name": "python",
   "nbconvert_exporter": "python",
   "pygments_lexer": "ipython3",
   "version": "3.7.3"
  },
  "toc": {
   "base_numbering": 1,
   "nav_menu": {},
   "number_sections": true,
   "sideBar": true,
   "skip_h1_title": false,
   "title_cell": "Table of Contents",
   "title_sidebar": "Contents",
   "toc_cell": false,
   "toc_position": {},
   "toc_section_display": true,
   "toc_window_display": false
  }
 },
 "nbformat": 4,
 "nbformat_minor": 2
}
