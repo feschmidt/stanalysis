{
 "cells": [
  {
   "cell_type": "code",
   "execution_count": 1,
   "metadata": {
    "ExecuteTime": {
     "end_time": "2019-04-17T08:47:26.979869Z",
     "start_time": "2019-04-17T08:45:05.004673Z"
    },
    "collapsed": true
   },
   "outputs": [],
   "source": [
    "import stlabutils"
   ]
  },
  {
   "cell_type": "code",
   "execution_count": 2,
   "metadata": {
    "ExecuteTime": {
     "end_time": "2019-04-17T08:47:32.677438Z",
     "start_time": "2019-04-17T08:47:32.672438Z"
    },
    "collapsed": true
   },
   "outputs": [],
   "source": [
    "import os\n",
    "import platform\n",
    "import subprocess"
   ]
  },
  {
   "cell_type": "code",
   "execution_count": 3,
   "metadata": {
    "ExecuteTime": {
     "end_time": "2019-04-17T08:47:44.386609Z",
     "start_time": "2019-04-17T08:47:44.382609Z"
    },
    "collapsed": true
   },
   "outputs": [],
   "source": [
    "import glob"
   ]
  },
  {
   "cell_type": "markdown",
   "metadata": {},
   "source": [
    "# General"
   ]
  },
  {
   "cell_type": "code",
   "execution_count": 5,
   "metadata": {
    "ExecuteTime": {
     "end_time": "2019-04-17T08:48:09.104081Z",
     "start_time": "2019-04-17T08:48:09.099080Z"
    }
   },
   "outputs": [
    {
     "data": {
      "text/plain": [
       "'../examples/data\\\\M59_2017_06_26_16.58.40_RF_vs_power_m60dbmatt_2amp_ref_sample.dat'"
      ]
     },
     "execution_count": 5,
     "metadata": {},
     "output_type": "execute_result"
    }
   ],
   "source": [
    "thefile = glob.glob('../examples/data/*.dat')[0]\n",
    "thefile"
   ]
  },
  {
   "cell_type": "code",
   "execution_count": 6,
   "metadata": {
    "ExecuteTime": {
     "end_time": "2019-04-17T08:48:29.222092Z",
     "start_time": "2019-04-17T08:48:29.217092Z"
    }
   },
   "outputs": [
    {
     "data": {
      "text/plain": [
       "'../examples/data'"
      ]
     },
     "execution_count": 6,
     "metadata": {},
     "output_type": "execute_result"
    }
   ],
   "source": [
    "os.path.dirname(thefile)"
   ]
  },
  {
   "cell_type": "code",
   "execution_count": 7,
   "metadata": {
    "ExecuteTime": {
     "end_time": "2019-04-17T08:48:44.781648Z",
     "start_time": "2019-04-17T08:48:44.777648Z"
    }
   },
   "outputs": [
    {
     "data": {
      "text/plain": [
       "'M59_2017_06_26_16.58.40_RF_vs_power_m60dbmatt_2amp_ref_sample.dat'"
      ]
     },
     "execution_count": 7,
     "metadata": {},
     "output_type": "execute_result"
    }
   ],
   "source": [
    "os.path.basename(thefile)"
   ]
  },
  {
   "cell_type": "code",
   "execution_count": 9,
   "metadata": {
    "ExecuteTime": {
     "end_time": "2019-04-17T08:49:07.462916Z",
     "start_time": "2019-04-17T08:49:07.458916Z"
    }
   },
   "outputs": [
    {
     "data": {
      "text/plain": [
       "'C:\\\\libs\\\\stlabutils\\\\examples\\\\data\\\\M59_2017_06_26_16.58.40_RF_vs_power_m60dbmatt_2amp_ref_sample.dat'"
      ]
     },
     "execution_count": 9,
     "metadata": {},
     "output_type": "execute_result"
    }
   ],
   "source": [
    "os.path.realpath(thefile)"
   ]
  },
  {
   "cell_type": "code",
   "execution_count": 10,
   "metadata": {
    "ExecuteTime": {
     "end_time": "2019-04-17T08:49:41.172287Z",
     "start_time": "2019-04-17T08:49:41.164286Z"
    }
   },
   "outputs": [
    {
     "data": {
      "text/plain": [
       "'..\\\\examples\\\\data\\\\M59_2017_06_26_16.58.40_RF_vs_power_m60dbmatt_2amp_ref_sample.dat'"
      ]
     },
     "execution_count": 10,
     "metadata": {},
     "output_type": "execute_result"
    }
   ],
   "source": [
    "os.path.normpath(thefile)"
   ]
  },
  {
   "cell_type": "markdown",
   "metadata": {},
   "source": [
    "# Running get_gitid"
   ]
  },
  {
   "cell_type": "code",
   "execution_count": 11,
   "metadata": {
    "ExecuteTime": {
     "end_time": "2019-04-17T08:51:10.163185Z",
     "start_time": "2019-04-17T08:51:10.159184Z"
    },
    "collapsed": true
   },
   "outputs": [],
   "source": [
    "cmd = 'git -C C:\\\\libs\\\\stlabutils rev-parse HEAD'"
   ]
  },
  {
   "cell_type": "code",
   "execution_count": 12,
   "metadata": {
    "ExecuteTime": {
     "end_time": "2019-04-17T08:51:34.278596Z",
     "start_time": "2019-04-17T08:51:34.217590Z"
    }
   },
   "outputs": [
    {
     "data": {
      "text/plain": [
       "'dc60f503fc16b54ff3f16f6e9991ffa0d4aa5ca9'"
      ]
     },
     "execution_count": 12,
     "metadata": {},
     "output_type": "execute_result"
    }
   ],
   "source": [
    "gitid = subprocess.check_output(cmd.split(' ')).decode(\"utf-8\").strip('\\n')\n",
    "gitid"
   ]
  },
  {
   "cell_type": "code",
   "execution_count": 14,
   "metadata": {
    "ExecuteTime": {
     "end_time": "2019-04-17T08:53:21.156283Z",
     "start_time": "2019-04-17T08:53:21.148282Z"
    }
   },
   "outputs": [
    {
     "name": "stdout",
     "output_type": "stream",
     "text": [
      "Stlabutils git id: dc60f503fc16b54ff3f16f6e9991ffa0d4aa5ca9\n"
     ]
    }
   ],
   "source": [
    "filename = os.path.realpath(thefile)\n",
    "# dirname = dirname + '\\\\' + dirname\n",
    "with open(filename + '.stlabutils_id.txt', 'a') as myfile:\n",
    "    myfile.write('# Current stlabutils gitid\\n')\n",
    "    myfile.write(gitid)\n",
    "print('Stlabutils git id:', gitid)"
   ]
  },
  {
   "cell_type": "code",
   "execution_count": null,
   "metadata": {
    "collapsed": true
   },
   "outputs": [],
   "source": []
  }
 ],
 "metadata": {
  "kernelspec": {
   "display_name": "Python 3",
   "language": "python",
   "name": "python3"
  },
  "language_info": {
   "codemirror_mode": {
    "name": "ipython",
    "version": 3
   },
   "file_extension": ".py",
   "mimetype": "text/x-python",
   "name": "python",
   "nbconvert_exporter": "python",
   "pygments_lexer": "ipython3",
   "version": "3.6.3"
  },
  "toc": {
   "base_numbering": 1,
   "nav_menu": {},
   "number_sections": true,
   "sideBar": true,
   "skip_h1_title": false,
   "title_cell": "Table of Contents",
   "title_sidebar": "Contents",
   "toc_cell": false,
   "toc_position": {},
   "toc_section_display": true,
   "toc_window_display": false
  },
  "varInspector": {
   "cols": {
    "lenName": 16,
    "lenType": 16,
    "lenVar": 40
   },
   "kernels_config": {
    "python": {
     "delete_cmd_postfix": "",
     "delete_cmd_prefix": "del ",
     "library": "var_list.py",
     "varRefreshCmd": "print(var_dic_list())"
    },
    "r": {
     "delete_cmd_postfix": ") ",
     "delete_cmd_prefix": "rm(",
     "library": "var_list.r",
     "varRefreshCmd": "cat(var_dic_list()) "
    }
   },
   "types_to_exclude": [
    "module",
    "function",
    "builtin_function_or_method",
    "instance",
    "_Feature"
   ],
   "window_display": false
  }
 },
 "nbformat": 4,
 "nbformat_minor": 2
}
